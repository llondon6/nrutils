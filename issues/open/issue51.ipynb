{
 "cells": [
  {
   "cell_type": "markdown",
   "metadata": {},
   "source": [
    "# Issue 51: Trouble with tortoises"
   ]
  },
  {
   "cell_type": "code",
   "execution_count": 1,
   "metadata": {},
   "outputs": [
    {
     "name": "stdout",
     "output_type": "stream",
     "text": [
      "(\u001b[0;36mpositive\u001b[0m)>> Applying custom matplotlib settings.\n"
     ]
    }
   ],
   "source": [
    "# Setup ipython environment\n",
    "%load_ext autoreload\n",
    "%autoreload 2\n",
    "%matplotlib inline\n",
    "# Setup plotting backend\n",
    "from matplotlib.pyplot import *\n",
    "# Import nrutils\n",
    "from nrutils import sc_add,scsearch,gwylm\n",
    "from nrutils.manipulate.rotate import gwylm_radiation_axis_workflow\n",
    "from numpy import *\n",
    "from positive import *"
   ]
  },
  {
   "cell_type": "code",
   "execution_count": 2,
   "metadata": {},
   "outputs": [
    {
     "name": "stdout",
     "output_type": "stream",
     "text": [
      "(\u001b[0;36mscsearch\u001b[0m)>> Found \u001b[4mkeyword\u001b[0m (=q8a08t150dP2_T_120_480) keyword.\n",
      "(\u001b[0;36mscsearch\u001b[0m)>> Found \u001b[4mverbose\u001b[0m (=True) keyword.\n",
      "(\u001b[0;36mscsearch\u001b[0m)>> List of keywords or string keyword found: \u001b[0;36mALL scentry objects matching will be passed.\u001b[0m To pass ANY entries matching the keywords, input the keywords using an iterable of not of type list.\n",
      "## Found \u001b[1m1\u001b[0m\u001b[0;35m possibly degenerate\u001b[0m simulations:\n",
      "[0001][\u001b[92mhogshead\u001b[0m] \u001b[0;36mq8precessing\u001b[0m: 1chi0.80-p-q8.00\t(\u001b[0;36mq8a08t150dP2_T_120_480\u001b[0m)\n",
      "\n"
     ]
    }
   ],
   "source": [
    "A = scsearch(keyword='q8a08t150dP2_T_120_480',verbose=True)"
   ]
  },
  {
   "cell_type": "code",
   "execution_count": 3,
   "metadata": {},
   "outputs": [
    {
     "ename": "KeyError",
     "evalue": "'radius_map_tortoise'",
     "output_type": "error",
     "traceback": [
      "\u001b[0;31m---------------------------------------------------------------------------\u001b[0m",
      "\u001b[0;31mKeyError\u001b[0m                                  Traceback (most recent call last)",
      "\u001b[0;32m<ipython-input-3-d2ea825d4236>\u001b[0m in \u001b[0;36m<module>\u001b[0;34m()\u001b[0m\n\u001b[0;32m----> 1\u001b[0;31m \u001b[0my_raw\u001b[0m \u001b[0;34m=\u001b[0m \u001b[0mgwylm\u001b[0m\u001b[0;34m(\u001b[0m \u001b[0mA\u001b[0m\u001b[0;34m[\u001b[0m\u001b[0;36m0\u001b[0m\u001b[0;34m]\u001b[0m\u001b[0;34m,\u001b[0m \u001b[0mlmax\u001b[0m\u001b[0;34m=\u001b[0m\u001b[0;36m2\u001b[0m\u001b[0;34m,\u001b[0m \u001b[0mverbose\u001b[0m\u001b[0;34m=\u001b[0m\u001b[0mFalse\u001b[0m\u001b[0;34m,\u001b[0m \u001b[0mclean\u001b[0m \u001b[0;34m=\u001b[0m \u001b[0mTrue\u001b[0m\u001b[0;34m,\u001b[0m \u001b[0mdt\u001b[0m\u001b[0;34m=\u001b[0m\u001b[0;36m0.5\u001b[0m\u001b[0;34m,\u001b[0m\u001b[0mpad\u001b[0m\u001b[0;34m=\u001b[0m\u001b[0;36m1000\u001b[0m \u001b[0;34m)\u001b[0m\u001b[0;34m\u001b[0m\u001b[0m\n\u001b[0m",
      "\u001b[0;32m/Users/book/JOKI/Libs/KOALA/nrutils_dev/nrutils/core/nrsc.py\u001b[0m in \u001b[0;36m__init__\u001b[0;34m(this, scentry_obj, lm, lmax, dt, load, clean, extraction_parameter, level, w22, lowpass, calcstrain, calcnews, enforce_polarization_convention, fftfactor, pad, __M_RELATIVE_SIGN_CONVENTION__, initial_j_align, load_dynamics, use_tortoise_for_dynamics, mutipole_dictionary, verbose, wfarr_dict, enforce_m_relative_sign_convention)\u001b[0m\n\u001b[1;32m   2562\u001b[0m         \u001b[0;32mif\u001b[0m \u001b[0mload_dynamics\u001b[0m\u001b[0;34m:\u001b[0m\u001b[0;34m\u001b[0m\u001b[0m\n\u001b[1;32m   2563\u001b[0m             \u001b[0mwaveform_times\u001b[0m \u001b[0;34m=\u001b[0m \u001b[0mthis\u001b[0m\u001b[0;34m.\u001b[0m\u001b[0mt\u001b[0m\u001b[0;34m[\u001b[0m \u001b[0;34m(\u001b[0m\u001b[0mthis\u001b[0m\u001b[0;34m.\u001b[0m\u001b[0mt\u001b[0m\u001b[0;34m>\u001b[0m\u001b[0mthis\u001b[0m\u001b[0;34m.\u001b[0m\u001b[0mt\u001b[0m\u001b[0;34m[\u001b[0m\u001b[0mthis\u001b[0m\u001b[0;34m.\u001b[0m\u001b[0mstartindex\u001b[0m\u001b[0;34m]\u001b[0m\u001b[0;34m)\u001b[0m \u001b[0;34m&\u001b[0m \u001b[0;34m(\u001b[0m\u001b[0mthis\u001b[0m\u001b[0;34m.\u001b[0m\u001b[0mt\u001b[0m\u001b[0;34m<\u001b[0m\u001b[0mthis\u001b[0m\u001b[0;34m[\u001b[0m\u001b[0;36m2\u001b[0m\u001b[0;34m,\u001b[0m\u001b[0;36m2\u001b[0m\u001b[0;34m]\u001b[0m\u001b[0;34m[\u001b[0m\u001b[0;34m'psi4'\u001b[0m\u001b[0;34m]\u001b[0m\u001b[0;34m.\u001b[0m\u001b[0mintrp_t_amp_max\u001b[0m\u001b[0;34m)\u001b[0m \u001b[0;34m]\u001b[0m\u001b[0;34m\u001b[0m\u001b[0m\n\u001b[0;32m-> 2564\u001b[0;31m             \u001b[0mthis\u001b[0m\u001b[0;34m.\u001b[0m\u001b[0mload_dynamics\u001b[0m\u001b[0;34m(\u001b[0m\u001b[0mverbose\u001b[0m\u001b[0;34m=\u001b[0m\u001b[0mverbose\u001b[0m\u001b[0;34m,\u001b[0m\u001b[0mwaveform_times\u001b[0m\u001b[0;34m=\u001b[0m\u001b[0mwaveform_times\u001b[0m\u001b[0;34m)\u001b[0m\u001b[0;34m\u001b[0m\u001b[0m\n\u001b[0m\u001b[1;32m   2565\u001b[0m \u001b[0;34m\u001b[0m\u001b[0m\n\u001b[1;32m   2566\u001b[0m \u001b[0;34m\u001b[0m\u001b[0m\n",
      "\u001b[0;32m/Users/book/JOKI/Libs/KOALA/nrutils_dev/nrutils/core/nrsc.py\u001b[0m in \u001b[0;36mload_dynamics\u001b[0;34m(this, waveform_times, verbose, output)\u001b[0m\n\u001b[1;32m   5107\u001b[0m                 \u001b[0merror\u001b[0m\u001b[0;34m(\u001b[0m\u001b[0;34m'The waveform times over which we want dynamics must be input'\u001b[0m\u001b[0;34m)\u001b[0m\u001b[0;34m\u001b[0m\u001b[0m\n\u001b[1;32m   5108\u001b[0m \u001b[0;34m\u001b[0m\u001b[0m\n\u001b[0;32m-> 5109\u001b[0;31m             \u001b[0mextraction_radius\u001b[0m \u001b[0;34m=\u001b[0m \u001b[0mthis\u001b[0m\u001b[0;34m.\u001b[0m\u001b[0mextraction_radius\u001b[0m\u001b[0;34m(\u001b[0m\u001b[0;34m)\u001b[0m\u001b[0;34m\u001b[0m\u001b[0m\n\u001b[0m\u001b[1;32m   5110\u001b[0m \u001b[0;34m\u001b[0m\u001b[0m\n\u001b[1;32m   5111\u001b[0m             \u001b[0mdynamics_times\u001b[0m \u001b[0;34m=\u001b[0m \u001b[0mwaveform_times\u001b[0m \u001b[0;34m-\u001b[0m \u001b[0mextraction_radius\u001b[0m\u001b[0;34m\u001b[0m\u001b[0m\n",
      "\u001b[0;32m/Users/book/JOKI/Libs/KOALA/nrutils_dev/nrutils/core/nrsc.py\u001b[0m in \u001b[0;36mextraction_radius\u001b[0;34m(this)\u001b[0m\n\u001b[1;32m   2976\u001b[0m     \u001b[0;32mdef\u001b[0m \u001b[0mextraction_radius\u001b[0m\u001b[0;34m(\u001b[0m\u001b[0mthis\u001b[0m\u001b[0;34m)\u001b[0m\u001b[0;34m:\u001b[0m\u001b[0;34m\u001b[0m\u001b[0m\n\u001b[1;32m   2977\u001b[0m         \u001b[0;34m''' Return the current object's extraction radius'''\u001b[0m\u001b[0;34m\u001b[0m\u001b[0m\n\u001b[0;32m-> 2978\u001b[0;31m         \u001b[0;32mreturn\u001b[0m \u001b[0mthis\u001b[0m\u001b[0;34m.\u001b[0m\u001b[0m__r__\u001b[0m\u001b[0;34m(\u001b[0m\u001b[0;34m)\u001b[0m\u001b[0;34m\u001b[0m\u001b[0m\n\u001b[0m\u001b[1;32m   2979\u001b[0m     \u001b[0;32mdef\u001b[0m \u001b[0m__r__\u001b[0m\u001b[0;34m(\u001b[0m\u001b[0mthis\u001b[0m\u001b[0;34m,\u001b[0m\u001b[0mextraction_parameter\u001b[0m\u001b[0;34m=\u001b[0m\u001b[0mNone\u001b[0m\u001b[0;34m,\u001b[0m\u001b[0mr_for_scaling\u001b[0m\u001b[0;34m=\u001b[0m\u001b[0mFalse\u001b[0m\u001b[0;34m,\u001b[0m\u001b[0mverbose\u001b[0m\u001b[0;34m=\u001b[0m\u001b[0mFalse\u001b[0m\u001b[0;34m)\u001b[0m\u001b[0;34m:\u001b[0m\u001b[0;34m\u001b[0m\u001b[0m\n\u001b[1;32m   2980\u001b[0m         \u001b[0;31m#\u001b[0m\u001b[0;34m\u001b[0m\u001b[0;34m\u001b[0m\u001b[0m\n",
      "\u001b[0;32m/Users/book/JOKI/Libs/KOALA/nrutils_dev/nrutils/core/nrsc.py\u001b[0m in \u001b[0;36m__r__\u001b[0;34m(this, extraction_parameter, r_for_scaling, verbose)\u001b[0m\n\u001b[1;32m   2990\u001b[0m                 \u001b[0;32mreturn\u001b[0m \u001b[0mthis\u001b[0m\u001b[0;34m.\u001b[0m\u001b[0mextraction_map_dict\u001b[0m\u001b[0;34m[\u001b[0m\u001b[0;34m'radius_map'\u001b[0m\u001b[0;34m]\u001b[0m\u001b[0;34m[\u001b[0m\u001b[0mthis\u001b[0m\u001b[0;34m.\u001b[0m\u001b[0mextraction_parameter\u001b[0m\u001b[0;34m]\u001b[0m\u001b[0;34m\u001b[0m\u001b[0m\n\u001b[1;32m   2991\u001b[0m             \u001b[0;32melse\u001b[0m\u001b[0;34m:\u001b[0m\u001b[0;34m\u001b[0m\u001b[0m\n\u001b[0;32m-> 2992\u001b[0;31m                 \u001b[0;32mreturn\u001b[0m \u001b[0mthis\u001b[0m\u001b[0;34m.\u001b[0m\u001b[0mextraction_map_dict\u001b[0m\u001b[0;34m[\u001b[0m\u001b[0;34m'radius_map_tortoise'\u001b[0m\u001b[0;34m]\u001b[0m\u001b[0;34m[\u001b[0m\u001b[0mthis\u001b[0m\u001b[0;34m.\u001b[0m\u001b[0mextraction_parameter\u001b[0m\u001b[0;34m]\u001b[0m\u001b[0;34m\u001b[0m\u001b[0m\n\u001b[0m\u001b[1;32m   2993\u001b[0m \u001b[0;34m\u001b[0m\u001b[0m\n\u001b[1;32m   2994\u001b[0m     \u001b[0;31m# load the waveform data\u001b[0m\u001b[0;34m\u001b[0m\u001b[0;34m\u001b[0m\u001b[0m\n",
      "\u001b[0;31mKeyError\u001b[0m: 'radius_map_tortoise'"
     ]
    }
   ],
   "source": [
    "y_raw = gwylm( A[0], lmax=2, verbose=False, clean = True, dt=0.5,pad=1000 )"
   ]
  },
  {
   "cell_type": "code",
   "execution_count": null,
   "metadata": {},
   "outputs": [],
   "source": []
  }
 ],
 "metadata": {
  "kernelspec": {
   "display_name": "LIGO+Python2.7",
   "language": "python",
   "name": "ligo-py2"
  },
  "language_info": {
   "codemirror_mode": {
    "name": "ipython",
    "version": 2
   },
   "file_extension": ".py",
   "mimetype": "text/x-python",
   "name": "python",
   "nbconvert_exporter": "python",
   "pygments_lexer": "ipython2",
   "version": "2.7.17"
  }
 },
 "nbformat": 4,
 "nbformat_minor": 4
}
