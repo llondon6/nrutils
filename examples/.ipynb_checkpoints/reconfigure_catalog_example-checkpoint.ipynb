{
 "cells": [
  {
   "cell_type": "markdown",
   "metadata": {},
   "source": [
    "# How to reconfigure a catalog file, and use it with your local settings"
   ]
  },
  {
   "cell_type": "markdown",
   "metadata": {},
   "source": [
    "## Let's start by importing nrutils and other useful things"
   ]
  },
  {
   "cell_type": "code",
   "execution_count": 2,
   "metadata": {
    "collapsed": false
   },
   "outputs": [
    {
     "name": "stdout",
     "output_type": "stream",
     "text": [
      "The autoreload extension is already loaded. To reload it, use:\n",
      "  %reload_ext autoreload\n"
     ]
    }
   ],
   "source": [
    "# Setup enviroment to autoreload packages\n",
    "%load_ext autoreload\n",
    "%autoreload 2\n",
    "# Turn on inline plotting with matplotlib, and import needed thigs from nrutils\n",
    "%matplotlib inline\n",
    "from nrutils import scsearch,gwylm,screconf"
   ]
  },
  {
   "cell_type": "markdown",
   "metadata": {},
   "source": [
    "## Here's the scene ....\n",
    "    1. You've gotten your dirty paws on a catalog file, let's call it `their_catalog.db`.\n",
    "    2. `their_catalog.db` has been build on someone else's computer, *and* you have created a corresponding config file (let's call it `their_catalogs_settings_for_my_local_nrutils.ini`) contianing the related information for *your* system (i.e. the root directory of all of the simulation referenced by \"their_catalog\")\n",
    "    3. You want to use their_catalog.db with your installation of nrutils, as this is way faster than rebuilding the catalog file from sratch (and time is $$$)\n",
    "    \n",
    "## You have *two* options *(route B is recommended, but route A will do in a pinch)*:\n",
    "#### A. Plug and Play:\n",
    "    1. Make sure that the new catalog and its corresponding config ini file have the same name:\n",
    "    their_catalog.db --> noob.db, and their_catalogs_settings_for_my_local_nrutils.ini --> noob.ini\n",
    "    2. Copy noob.db to the location returned by nrutils.my_settings.database_path\n",
    "    3. Copy your corresponding noob.ini to the location returned by nrutils.my_settings.config_path\n",
    "     \n",
    "Following this route, nrutils should now know about the new catalog. You can check by looking for the new runs using `scsearch`. \n",
    "\n",
    "This is all dandy, but there is a minor shortback to using this method: searches will be slower as nrutils must \"reconfigure\" each catalog entry to your local settings each time its read. Another way of putting this is that your noob.db is still configured for the external system, and knows nothing about your system, so nrutils must correct for this disconnect each time you searhc for anything using scsearch. The way around this is to reconfigure the entire catalog just once, and then sae it.\n",
    "\n",
    "#### B. Reconfigure first:\n",
    "    1. Use nrutils.screconf to make a catalog file that's configured for your local settings, but contains the same runs. I.E. if the file lives at \"~/noob.db\", the python call is screconf(\"~/noob.db\"). Doing this overwrites noob.db with a new reconfigured file, and by default, it makes a backup of the original file.\n",
    "    2. Perform steps 1 through 3 of the Plug and Play route.\n"
   ]
  }
 ],
 "metadata": {
  "kernelspec": {
   "display_name": "Python [Root]",
   "language": "python",
   "name": "Python [Root]"
  },
  "language_info": {
   "codemirror_mode": {
    "name": "ipython",
    "version": 2
   },
   "file_extension": ".py",
   "mimetype": "text/x-python",
   "name": "python",
   "nbconvert_exporter": "python",
   "pygments_lexer": "ipython2",
   "version": "2.7.9"
  }
 },
 "nbformat": 4,
 "nbformat_minor": 0
}
